{
 "cells": [
  {
   "cell_type": "code",
   "execution_count": 1,
   "id": "a4820fbe-c679-4393-a309-b042dfc12474",
   "metadata": {},
   "outputs": [
    {
     "name": "stdout",
     "output_type": "stream",
     "text": [
      "daataengineer zoomcamp\n"
     ]
    }
   ],
   "source": [
    "print('daataengineer zoomcamp')"
   ]
  },
  {
   "cell_type": "code",
   "execution_count": null,
   "id": "1d41bd59-2395-481b-8242-bc8dcbd6b299",
   "metadata": {},
   "outputs": [],
   "source": []
  }
 ],
 "metadata": {
  "kernelspec": {
   "display_name": "Python 3 (ipykernel)",
   "language": "python",
   "name": "python3"
  },
  "language_info": {
   "codemirror_mode": {
    "name": "ipython",
    "version": 3
   },
   "file_extension": ".py",
   "mimetype": "text/x-python",
   "name": "python",
   "nbconvert_exporter": "python",
   "pygments_lexer": "ipython3",
   "version": "3.10.13"
  }
 },
 "nbformat": 4,
 "nbformat_minor": 5
}
